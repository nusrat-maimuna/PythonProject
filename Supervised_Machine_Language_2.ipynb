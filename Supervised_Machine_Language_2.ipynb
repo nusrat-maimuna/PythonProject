{
  "nbformat": 4,
  "nbformat_minor": 0,
  "metadata": {
    "colab": {
      "provenance": []
    },
    "kernelspec": {
      "name": "python3",
      "display_name": "Python 3"
    },
    "language_info": {
      "name": "python"
    }
  },
  "cells": [
    {
      "cell_type": "code",
      "execution_count": null,
      "metadata": {
        "id": "wkk9ZUiGz8p2"
      },
      "outputs": [],
      "source": [
        "# @title 1. Setup and Data Loading\n",
        "# Import essential libraries\n",
        "import pandas as pd\n",
        "import numpy as np\n",
        "import matplotlib.pyplot as plt\n",
        "import seaborn as sns"
      ]
    },
    {
      "cell_type": "code",
      "source": [
        "# For preprocessing\n",
        "from sklearn.model_selection import train_test_split\n",
        "from sklearn.preprocessing import StandardScaler, OneHotEncoder\n",
        "from sklearn.compose import ColumnTransformer\n",
        "from sklearn.impute import SimpleImputer\n",
        "from sklearn.pipeline import Pipeline"
      ],
      "metadata": {
        "id": "d6VFX8tc62Zn"
      },
      "execution_count": null,
      "outputs": []
    },
    {
      "cell_type": "code",
      "source": [
        "# For modeling\n",
        "from sklearn.linear_model import LogisticRegression\n",
        "from sklearn.neighbors import KNeighborsClassifier\n",
        "from sklearn.svm import SVC\n",
        "from sklearn.tree import DecisionTreeClassifier\n",
        "from sklearn.ensemble import RandomForestClassifier, GradientBoostingClassifier\n",
        "from sklearn.neural_network import MLPClassifier # Multi-layer Perceptron (Neural Network)"
      ],
      "metadata": {
        "id": "hHOwjpIi7Hp6"
      },
      "execution_count": null,
      "outputs": []
    },
    {
      "cell_type": "code",
      "source": [
        "# For evaluation\n",
        "from sklearn.metrics import accuracy_score, confusion_matrix, classification_report, roc_curve, auc, RocCurveDisplay, ConfusionMatrixDisplay"
      ],
      "metadata": {
        "id": "2jJyVS8C7pYv"
      },
      "execution_count": null,
      "outputs": []
    },
    {
      "cell_type": "code",
      "source": [
        "df = pd.read_csv('heart_disease_uci.csv')\n",
        "print(\"Dataset loaded successfully!\")"
      ],
      "metadata": {
        "colab": {
          "base_uri": "https://localhost:8080/"
        },
        "id": "RjXOGb4B9Ffz",
        "outputId": "54316f09-a944-443d-abff-9cb8944e9401"
      },
      "execution_count": null,
      "outputs": [
        {
          "output_type": "stream",
          "name": "stdout",
          "text": [
            "Dataset loaded successfully!\n"
          ]
        }
      ]
    },
    {
      "cell_type": "code",
      "source": [
        "# Display basic info\n",
        "print(\"\\n--- Dataset Head ---\")\n",
        "print(df.head())\n",
        "print(\"\\n--- Dataset Info ---\")\n",
        "df.info()"
      ],
      "metadata": {
        "colab": {
          "base_uri": "https://localhost:8080/"
        },
        "id": "Uixf5-4P9AIv",
        "outputId": "8bddef6a-1d8f-48b6-8d02-32a1e76cf2cf"
      },
      "execution_count": null,
      "outputs": [
        {
          "output_type": "stream",
          "name": "stdout",
          "text": [
            "\n",
            "--- Dataset Head ---\n",
            "   id  age     sex    dataset               cp  trestbps   chol    fbs  \\\n",
            "0   1   63    Male  Cleveland   typical angina     145.0  233.0   True   \n",
            "1   2   67    Male  Cleveland     asymptomatic     160.0  286.0  False   \n",
            "2   3   67    Male  Cleveland     asymptomatic     120.0  229.0  False   \n",
            "3   4   37    Male  Cleveland      non-anginal     130.0  250.0  False   \n",
            "4   5   41  Female  Cleveland  atypical angina     130.0  204.0  False   \n",
            "\n",
            "          restecg  thalch  exang  oldpeak        slope   ca  \\\n",
            "0  lv hypertrophy   150.0  False      2.3  downsloping  0.0   \n",
            "1  lv hypertrophy   108.0   True      1.5         flat  3.0   \n",
            "2  lv hypertrophy   129.0   True      2.6         flat  2.0   \n",
            "3          normal   187.0  False      3.5  downsloping  0.0   \n",
            "4  lv hypertrophy   172.0  False      1.4    upsloping  0.0   \n",
            "\n",
            "                thal  num  \n",
            "0       fixed defect    0  \n",
            "1             normal    2  \n",
            "2  reversable defect    1  \n",
            "3             normal    0  \n",
            "4             normal    0  \n",
            "\n",
            "--- Dataset Info ---\n",
            "<class 'pandas.core.frame.DataFrame'>\n",
            "RangeIndex: 920 entries, 0 to 919\n",
            "Data columns (total 16 columns):\n",
            " #   Column    Non-Null Count  Dtype  \n",
            "---  ------    --------------  -----  \n",
            " 0   id        920 non-null    int64  \n",
            " 1   age       920 non-null    int64  \n",
            " 2   sex       920 non-null    object \n",
            " 3   dataset   920 non-null    object \n",
            " 4   cp        920 non-null    object \n",
            " 5   trestbps  861 non-null    float64\n",
            " 6   chol      890 non-null    float64\n",
            " 7   fbs       830 non-null    object \n",
            " 8   restecg   918 non-null    object \n",
            " 9   thalch    865 non-null    float64\n",
            " 10  exang     865 non-null    object \n",
            " 11  oldpeak   858 non-null    float64\n",
            " 12  slope     611 non-null    object \n",
            " 13  ca        309 non-null    float64\n",
            " 14  thal      434 non-null    object \n",
            " 15  num       920 non-null    int64  \n",
            "dtypes: float64(5), int64(3), object(8)\n",
            "memory usage: 115.1+ KB\n"
          ]
        }
      ]
    },
    {
      "cell_type": "code",
      "source": [
        "# @title 2.  Exploratory Data Analysis (EDA)\n",
        "print(\"\\n--- Missing Values ---\")\n",
        "print(df.isnull().sum())\n",
        "print(\"\\n--- Descriptive Statistics ---\")\n",
        "print(df.describe().T)"
      ],
      "metadata": {
        "colab": {
          "base_uri": "https://localhost:8080/"
        },
        "id": "E4o4xX-x9qvA",
        "outputId": "261e62a2-cfbc-4a35-98eb-1e1d5cbc1ec6"
      },
      "execution_count": null,
      "outputs": [
        {
          "output_type": "stream",
          "name": "stdout",
          "text": [
            "\n",
            "--- Missing Values ---\n",
            "id            0\n",
            "age           0\n",
            "sex           0\n",
            "dataset       0\n",
            "cp            0\n",
            "trestbps     59\n",
            "chol         30\n",
            "fbs          90\n",
            "restecg       2\n",
            "thalch       55\n",
            "exang        55\n",
            "oldpeak      62\n",
            "slope       309\n",
            "ca          611\n",
            "thal        486\n",
            "num           0\n",
            "dtype: int64\n",
            "\n",
            "--- Descriptive Statistics ---\n",
            "          count        mean         std   min     25%    50%     75%    max\n",
            "id        920.0  460.500000  265.725422   1.0  230.75  460.5  690.25  920.0\n",
            "age       920.0   53.510870    9.424685  28.0   47.00   54.0   60.00   77.0\n",
            "trestbps  861.0  132.132404   19.066070   0.0  120.00  130.0  140.00  200.0\n",
            "chol      890.0  199.130337  110.780810   0.0  175.00  223.0  268.00  603.0\n",
            "thalch    865.0  137.545665   25.926276  60.0  120.00  140.0  157.00  202.0\n",
            "oldpeak   858.0    0.878788    1.091226  -2.6    0.00    0.5    1.50    6.2\n",
            "ca        309.0    0.676375    0.935653   0.0    0.00    0.0    1.00    3.0\n",
            "num       920.0    0.995652    1.142693   0.0    0.00    1.0    2.00    4.0\n"
          ]
        }
      ]
    },
    {
      "cell_type": "code",
      "source": [
        "# Check unique values for categorical features and target\n",
        "print(\"\\n--- Unique values for 'ca' and 'thal' (and target 'num') ---\")\n",
        "print(df['ca'].value_counts(dropna=False)) # 'ca' might have '?'\n",
        "print(df['thal'].value_counts(dropna=False)) # 'thal' might have '?'\n",
        "print(df['num'].value_counts()) # Target variable"
      ],
      "metadata": {
        "colab": {
          "base_uri": "https://localhost:8080/"
        },
        "id": "abhyazXt-dRd",
        "outputId": "23b2766f-9748-4d10-b8c1-8cddc537b657"
      },
      "execution_count": null,
      "outputs": [
        {
          "output_type": "stream",
          "name": "stdout",
          "text": [
            "\n",
            "--- Unique values for 'ca' and 'thal' (and target 'num') ---\n",
            "ca\n",
            "NaN    611\n",
            "0.0    181\n",
            "1.0     67\n",
            "2.0     41\n",
            "3.0     20\n",
            "Name: count, dtype: int64\n",
            "thal\n",
            "NaN                  486\n",
            "normal               196\n",
            "reversable defect    192\n",
            "fixed defect          46\n",
            "Name: count, dtype: int64\n",
            "num\n",
            "0    411\n",
            "1    265\n",
            "2    109\n",
            "3    107\n",
            "4     28\n",
            "Name: count, dtype: int64\n"
          ]
        }
      ]
    },
    {
      "cell_type": "code",
      "source": [
        "# Convert '?' to NaN for easier handling\n",
        "df.replace('?', np.nan, inplace=True)"
      ],
      "metadata": {
        "id": "Zy6mdH8M-xit"
      },
      "execution_count": null,
      "outputs": []
    },
    {
      "cell_type": "code",
      "source": [
        "# Convert relevant columns to numeric (they might have been loaded as object due to '?')\n",
        "df['thal'] = df['thal'].replace('?', np.nan)   # Replace '?' with NaN\n",
        "df['thal'] = df['thal'].astype('category').cat.codes"
      ],
      "metadata": {
        "id": "wYsPj26P-1dU"
      },
      "execution_count": null,
      "outputs": []
    },
    {
      "cell_type": "code",
      "source": [
        "# for ML model (one-hot-coding)\n",
        "df = pd.get_dummies(df, columns=['thal'], drop_first=True)"
      ],
      "metadata": {
        "id": "GbVf4Jv0_0pj"
      },
      "execution_count": null,
      "outputs": []
    },
    {
      "cell_type": "code",
      "source": [
        "print(df.columns.tolist())"
      ],
      "metadata": {
        "colab": {
          "base_uri": "https://localhost:8080/"
        },
        "id": "hlK5E2DGApLx",
        "outputId": "71e1516f-0cda-430f-a440-3939f42c21b0"
      },
      "execution_count": null,
      "outputs": [
        {
          "output_type": "stream",
          "name": "stdout",
          "text": [
            "['id', 'age', 'sex', 'dataset', 'cp', 'trestbps', 'chol', 'fbs', 'restecg', 'thalch', 'exang', 'oldpeak', 'slope', 'ca', 'num', 'thal_0', 'thal_1', 'thal_2']\n"
          ]
        }
      ]
    },
    {
      "cell_type": "code",
      "source": [
        "thal_cols = ['thal_0', 'thal_1', 'thal_2']\n",
        "\n",
        "# Boolean columns থেকে string category বানাও\n",
        "df['thal'] = df[thal_cols].idxmax(axis=1)  # সবচেয়ে প্রথম True\n",
        "df['thal'] = df['thal'].map({\n",
        "    'thal_0': 'normal',\n",
        "    'thal_1': 'fixed defect',\n",
        "    'thal_2': 'reversible defect'\n",
        "})\n",
        "\n",
        "print(df[['thal_0', 'thal_1', 'thal_2', 'thal']].head(10))\n"
      ],
      "metadata": {
        "colab": {
          "base_uri": "https://localhost:8080/"
        },
        "id": "nz7ODKlRIeqz",
        "outputId": "1c993241-0a64-416f-b54b-a838dde1bde7"
      },
      "execution_count": null,
      "outputs": [
        {
          "output_type": "stream",
          "name": "stdout",
          "text": [
            "   thal_0  thal_1  thal_2               thal\n",
            "0    True   False   False             normal\n",
            "1   False    True   False       fixed defect\n",
            "2   False   False    True  reversible defect\n",
            "3   False    True   False       fixed defect\n",
            "4   False    True   False       fixed defect\n",
            "5   False    True   False       fixed defect\n",
            "6   False    True   False       fixed defect\n",
            "7   False    True   False       fixed defect\n",
            "8   False   False    True  reversible defect\n",
            "9   False   False    True  reversible defect\n"
          ]
        }
      ]
    },
    {
      "cell_type": "code",
      "source": [
        "thal_map = {\n",
        "    'normal': 0,\n",
        "    'fixed defect': 1,\n",
        "    'reversible defect': 2\n",
        "}\n",
        "\n",
        "df['thal_num'] = df['thal'].map(thal_map)\n",
        "\n",
        "print(df[['thal', 'thal_num']].head(10))\n",
        "\n"
      ],
      "metadata": {
        "id": "xjKHj49CAtzj",
        "colab": {
          "base_uri": "https://localhost:8080/"
        },
        "outputId": "6d54c58e-0e6d-47bb-86f6-c6b423caed59"
      },
      "execution_count": null,
      "outputs": [
        {
          "output_type": "stream",
          "name": "stdout",
          "text": [
            "                thal  thal_num\n",
            "0             normal         0\n",
            "1       fixed defect         1\n",
            "2  reversible defect         2\n",
            "3       fixed defect         1\n",
            "4       fixed defect         1\n",
            "5       fixed defect         1\n",
            "6       fixed defect         1\n",
            "7       fixed defect         1\n",
            "8  reversible defect         2\n",
            "9  reversible defect         2\n"
          ]
        }
      ]
    },
    {
      "cell_type": "code",
      "source": [
        "# Re-check unique values and info after conversion\n",
        "print(\"\\n--- Unique values after '?' to NaN conversion and numeric casting ---\")\n",
        "print(df['ca'].value_counts(dropna=False))\n",
        "print(df['thal'].value_counts(dropna=False))\n",
        "df.info() # Check dtypes again\n"
      ],
      "metadata": {
        "colab": {
          "base_uri": "https://localhost:8080/"
        },
        "id": "flSbxrkeIh7u",
        "outputId": "6c5be098-dcf8-47cc-9fff-e77ef00af304"
      },
      "execution_count": null,
      "outputs": [
        {
          "output_type": "stream",
          "name": "stdout",
          "text": [
            "\n",
            "--- Unique values after '?' to NaN conversion and numeric casting ---\n",
            "ca\n",
            "NaN    611\n",
            "0.0    181\n",
            "1.0     67\n",
            "2.0     41\n",
            "3.0     20\n",
            "Name: count, dtype: int64\n",
            "thal\n",
            "normal               532\n",
            "fixed defect         196\n",
            "reversible defect    192\n",
            "Name: count, dtype: int64\n",
            "<class 'pandas.core.frame.DataFrame'>\n",
            "RangeIndex: 920 entries, 0 to 919\n",
            "Data columns (total 20 columns):\n",
            " #   Column    Non-Null Count  Dtype  \n",
            "---  ------    --------------  -----  \n",
            " 0   id        920 non-null    int64  \n",
            " 1   age       920 non-null    int64  \n",
            " 2   sex       920 non-null    object \n",
            " 3   dataset   920 non-null    object \n",
            " 4   cp        920 non-null    object \n",
            " 5   trestbps  861 non-null    float64\n",
            " 6   chol      890 non-null    float64\n",
            " 7   fbs       830 non-null    object \n",
            " 8   restecg   918 non-null    object \n",
            " 9   thalch    865 non-null    float64\n",
            " 10  exang     865 non-null    object \n",
            " 11  oldpeak   858 non-null    float64\n",
            " 12  slope     611 non-null    object \n",
            " 13  ca        309 non-null    float64\n",
            " 14  num       920 non-null    int64  \n",
            " 15  thal_0    920 non-null    bool   \n",
            " 16  thal_1    920 non-null    bool   \n",
            " 17  thal_2    920 non-null    bool   \n",
            " 18  thal      920 non-null    object \n",
            " 19  thal_num  920 non-null    int64  \n",
            "dtypes: bool(3), float64(5), int64(4), object(8)\n",
            "memory usage: 125.0+ KB\n"
          ]
        }
      ]
    },
    {
      "cell_type": "code",
      "source": [
        "# Distribution of Target Variable\n",
        "plt.figure(figsize=(6, 4))\n",
        "sns.countplot(x='num', data=df)\n",
        "plt.title('Distribution of Heart Disease (0 = No, 1-4 = Yes)')\n",
        "plt.xlabel('Heart Disease Presence')\n",
        "plt.ylabel('Count')\n",
        "plt.xticks(ticks=[0, 1, 2, 3, 4], labels=['No Disease', 'Disease (1)', 'Disease (2)', 'Disease (3)', 'Disease (4)'])\n",
        "plt.show()"
      ],
      "metadata": {
        "colab": {
          "base_uri": "https://localhost:8080/",
          "height": 410
        },
        "id": "y2eoODfwKJ2q",
        "outputId": "f341ed3f-6919-4e76-ec69-d05ecacf8fcc"
      },
      "execution_count": null,
      "outputs": [
        {
          "output_type": "display_data",
          "data": {
            "text/plain": [
              "<Figure size 600x400 with 1 Axes>"
            ],
            "image/png": "[encoded data removed]"
          },
          "metadata": {}
        }
      ]
    },
    {
      "cell_type": "code",
      "source": [
        "# The target variable 'num' has values 0, 1, 2, 3, 4.\n",
        "# According to UCI documentation, 0 = no disease, 1-4 = presence of disease.\n",
        "# We will convert this into a binary classification problem: 0 (No Disease) vs 1 (Disease).\n",
        "df['target'] = df['num'].apply(lambda x: 0 if x == 0 else 1) # Create new binary target\n",
        "print(\"\\n--- New Binary Target Distribution ---\")\n",
        "print(df['target'].value_counts())\n",
        "sns.countplot(x='target', data=df)\n",
        "plt.title('Binary Target Distribution (0 = No Disease, 1 = Disease)')\n",
        "plt.xlabel('Heart Disease (Binary)')\n",
        "plt.ylabel('Count')\n",
        "plt.show()"
      ],
      "metadata": {
        "colab": {
          "base_uri": "https://localhost:8080/",
          "height": 582
        },
        "id": "uGLE7P-pL_GW",
        "outputId": "d76c3b4e-9d3e-4daa-cdfd-9ab201de6d1e"
      },
      "execution_count": null,
      "outputs": [
        {
          "output_type": "stream",
          "name": "stdout",
          "text": [
            "\n",
            "--- New Binary Target Distribution ---\n",
            "target\n",
            "1    509\n",
            "0    411\n",
            "Name: count, dtype: int64\n"
          ]
        },
        {
          "output_type": "display_data",
          "data": {
            "text/plain": [
              "<Figure size 640x480 with 1 Axes>"
            ],
            "image/png": "[encoded data removed]"
          },
          "metadata": {}
        }
      ]
    },
    {
      "cell_type": "code",
      "source": [
        "# Correlation Heatmap\n",
        "numeric_cols = df.select_dtypes(include=['int64', 'float64']).columns.tolist()\n",
        "numeric_cols.remove('num')\n",
        "\n",
        "plt.figure(figsize=(12, 10))\n",
        "sns.heatmap(df[numeric_cols].corr(), annot=True, cmap='coolwarm', fmt=\".2f\",\n",
        "            linewidths=.5)\n",
        "plt.title('Correlation Heatmap of Numeric Features')\n",
        "plt.show()"
      ],
      "metadata": {
        "colab": {
          "base_uri": "https://localhost:8080/",
          "height": 853
        },
        "id": "zHMpFMUAMnAW",
        "outputId": "19459112-2f6f-4b86-99af-bcf67744fc72"
      },
      "execution_count": null,
      "outputs": [
        {
          "output_type": "display_data",
          "data": {
            "text/plain": [
              "<Figure size 1200x1000 with 2 Axes>"
            ],
            "image/png": "[encoded data removed]"
          },
          "metadata": {}
        }
      ]
    },
    {
      "cell_type": "code",
      "source": [
        "# @title 3. Data Cleaning, Preprocessing, and Feature Engineering\n",
        "# Drop the original 'num' column as we have created 'target'\n",
        "df = df.drop(columns=['num'])"
      ],
      "metadata": {
        "id": "FA1mLuohJlFl"
      },
      "execution_count": null,
      "outputs": []
    },
    {
      "cell_type": "code",
      "source": [
        "# Define features (X) and target (y)\n",
        "X = df.drop('target', axis=1)\n",
        "y = df['target']"
      ],
      "metadata": {
        "id": "DinZH4EhOZeG"
      },
      "execution_count": null,
      "outputs": []
    },
    {
      "cell_type": "code",
      "source": [
        "# Identify numerical and categorical features\n",
        "numerical_cols = X.select_dtypes(include=np.number).columns.tolist()\n",
        "categorical_cols = X.select_dtypes(include='object').columns.tolist() # 'sex', 'cp', 'fbs', 'restecg', 'exang', 'slope', 'thal' (after cleaning)"
      ],
      "metadata": {
        "id": "DK_7gV2ZPFis"
      },
      "execution_count": null,
      "outputs": []
    },
    {
      "cell_type": "code",
      "source": [
        "# Re-checking categorical columns after the initial `?` handling (as 'thal' and 'ca' are now numeric)\n",
        "# Best practice is to define them based on domain knowledge or explicit checking after initial cleaning.\n",
        "# Let's manually define based on the dataset nature and common practice:\n",
        "categorical_cols = ['sex', 'cp', 'fbs', 'restecg', 'exang', 'slope'] # 'thal' and 'ca' are often treated as categorical-like but are numeric encoded in this dataset sometimes"
      ],
      "metadata": {
        "id": "-WvF45KQPbPY"
      },
      "execution_count": null,
      "outputs": []
    },
    {
      "cell_type": "code",
      "source": [
        "# Ensure 'thal' and 'ca' are treated appropriately. Given they were numeric after '?' to NaN, they are numerical here.\n",
        "# If they were truly categories (e.g., 'normal', 'fixed defect', 'reversible defect'), they'd be in categorical_cols.\n",
        "# For this dataset, they are often integer encoded, so treating them as numerical is fine for now, or explicitly encoding.\n",
        "# Let's assume for simplicity they are numerical *after* cleaning and conversion for this step.\n",
        "\n",
        "print(f\"Numerical columns: {numerical_cols}\")\n",
        "print(f\"Categorical columns: {categorical_cols}\")"
      ],
      "metadata": {
        "colab": {
          "base_uri": "https://localhost:8080/"
        },
        "id": "loEe4zUrQyr3",
        "outputId": "8527c2f8-5f02-48e9-8c07-b9459f87cf91"
      },
      "execution_count": null,
      "outputs": [
        {
          "output_type": "stream",
          "name": "stdout",
          "text": [
            "Numerical columns: ['id', 'age', 'trestbps', 'chol', 'thalch', 'oldpeak', 'ca', 'thal_num']\n",
            "Categorical columns: ['sex', 'cp', 'fbs', 'restecg', 'exang', 'slope']\n"
          ]
        }
      ]
    },
    {
      "cell_type": "code",
      "source": [
        "# Create preprocessing pipelines for numerical and categorical features\n",
        "numerical_transformer = Pipeline(steps=[\n",
        " ('imputer', SimpleImputer(strategy='mean')), # Impute missing numerical values with mean\n",
        " ('scaler', StandardScaler()) # Scale numerical features\n",
        "])"
      ],
      "metadata": {
        "id": "CNe87qYJSA9y"
      },
      "execution_count": null,
      "outputs": []
    },
    {
      "cell_type": "code",
      "source": [
        "categorical_transformer = Pipeline(steps=[\n",
        " ('imputer', SimpleImputer(strategy='most_frequent')), # Impute missing categorical values with most frequent\n",
        " ('onehot', OneHotEncoder(handle_unknown='ignore')) # One-hot encode categorical features\n",
        "])"
      ],
      "metadata": {
        "id": "fy04RdIASGJq"
      },
      "execution_count": null,
      "outputs": []
    },
    {
      "cell_type": "code",
      "source": [
        "# Create a preprocessor using ColumnTransformer\n",
        "preprocessor = ColumnTransformer(\n",
        " transformers=[\n",
        " ('num', numerical_transformer, numerical_cols),\n",
        " ('cat', categorical_transformer, categorical_cols)\n",
        " ],\n",
        " remainder='passthrough' # Keep other columns untouched (if any, though none here)\n",
        ")"
      ],
      "metadata": {
        "id": "pt46yzAWTRQ1"
      },
      "execution_count": null,
      "outputs": []
    },
    {
      "cell_type": "code",
      "source": [
        "# Split the data into training and testing sets\n",
        "X_train, X_test, y_train, y_test = train_test_split(X, y, test_size=0.2, random_state=42,\n",
        "stratify=y) # Stratify helps maintain class distribution\n",
        "print(f\"\\nX_train shape: {X_train.shape}\")\n",
        "print(f\"X_test shape: {X_test.shape}\")\n",
        "print(f\"y_train shape: {y_train.shape}\")\n",
        "print(f\"y_test shape: {y_test.shape}\")"
      ],
      "metadata": {
        "colab": {
          "base_uri": "https://localhost:8080/"
        },
        "id": "VxI-rmSZTdyJ",
        "outputId": "9d245f98-9f2b-45b5-ef63-4c4a4cac1ce2"
      },
      "execution_count": null,
      "outputs": [
        {
          "output_type": "stream",
          "name": "stdout",
          "text": [
            "\n",
            "X_train shape: (736, 19)\n",
            "X_test shape: (184, 19)\n",
            "y_train shape: (736,)\n",
            "y_test shape: (184,)\n"
          ]
        }
      ]
    },
    {
      "cell_type": "code",
      "source": [
        "# @title 4. Model Training and Evaluation\n",
        "# Define a dictionary of models to train\n",
        "models = {\n",
        " 'Logistic Regression': LogisticRegression(solver='liblinear', random_state=42),\n",
        " 'K-Nearest Neighbors': KNeighborsClassifier(),\n",
        " 'Support Vector Machine': SVC(probability=True, random_state=42), # probability=True for ROC curve\n",
        " 'Decision Tree': DecisionTreeClassifier(random_state=42),\n",
        " 'Random Forest': RandomForestClassifier(random_state=42),\n",
        " 'Gradient Boosting': GradientBoostingClassifier(random_state=42),\n",
        " 'Neural Network (MLP)': MLPClassifier(random_state=42, max_iter=1000) # Increased max_iter for convergence\n",
        "}"
      ],
      "metadata": {
        "id": "pbnGEI7vUkY5"
      },
      "execution_count": null,
      "outputs": []
    },
    {
      "cell_type": "code",
      "source": [
        "from sklearn.pipeline import Pipeline\n",
        "from sklearn.compose import ColumnTransformer\n",
        "from sklearn.preprocessing import OneHotEncoder\n",
        "from sklearn.impute import SimpleImputer\n",
        "from sklearn.metrics import accuracy_score, confusion_matrix, classification_report"
      ],
      "metadata": {
        "id": "lvfAkFRkZj7o"
      },
      "execution_count": null,
      "outputs": []
    },
    {
      "cell_type": "code",
      "source": [
        "# Identify categorical and numeric columns\n",
        "categorical = X_train.select_dtypes(include=[\"object\"]).columns\n",
        "numeric = X_train.select_dtypes(exclude=[\"object\"]).columns\n",
        "\n",
        "# Preprocessor with Imputer\n",
        "preprocessor = ColumnTransformer([\n",
        "    (\"cat\", Pipeline([\n",
        "        (\"imputer\", SimpleImputer(strategy=\"most_frequent\")),\n",
        "        (\"onehot\", OneHotEncoder(handle_unknown=\"ignore\"))\n",
        "    ]), categorical),\n",
        "    (\"num\", Pipeline([\n",
        "        (\"imputer\", SimpleImputer(strategy=\"mean\"))\n",
        "    ]), numeric)\n",
        "])"
      ],
      "metadata": {
        "id": "zrXcXwMhbVVE"
      },
      "execution_count": null,
      "outputs": []
    },
    {
      "cell_type": "code",
      "source": [
        "# Loop over models\n",
        "for name, model in models.items():\n",
        "    print(f\"\\n--- Training {name} ---\")\n",
        "\n",
        "    # Full pipeline\n",
        "    full_pipeline = Pipeline(steps=[\n",
        "        ('preprocessor', preprocessor),\n",
        "        ('classifier', model)\n",
        "    ])"
      ],
      "metadata": {
        "colab": {
          "base_uri": "https://localhost:8080/"
        },
        "id": "X0pPRerObuBc",
        "outputId": "8b41b0c7-3de2-4333-88e8-0f8722e0777c"
      },
      "execution_count": null,
      "outputs": [
        {
          "output_type": "stream",
          "name": "stdout",
          "text": [
            "\n",
            "--- Training Logistic Regression ---\n",
            "\n",
            "--- Training K-Nearest Neighbors ---\n",
            "\n",
            "--- Training Support Vector Machine ---\n",
            "\n",
            "--- Training Decision Tree ---\n",
            "\n",
            "--- Training Random Forest ---\n",
            "\n",
            "--- Training Gradient Boosting ---\n",
            "\n",
            "--- Training Neural Network (MLP) ---\n"
          ]
        }
      ]
    },
    {
      "cell_type": "code",
      "source": [
        "    # Train\n",
        "    full_pipeline.fit(X_train, y_train)\n",
        "\n",
        "    # Predict\n",
        "    y_pred = full_pipeline.predict(X_test)\n",
        "    y_proba = full_pipeline.predict_proba(X_test)[:, 1] if hasattr(model, \"predict_proba\") else None\n",
        "\n",
        "    # --- Performance Metrics ---\n",
        "    accuracy = accuracy_score(y_test, y_pred)\n",
        "    conf_matrix = confusion_matrix(y_test, y_pred)\n",
        "    class_report = classification_report(y_test, y_pred)"
      ],
      "metadata": {
        "id": "-YfksGcKb-1M"
      },
      "execution_count": null,
      "outputs": []
    },
    {
      "cell_type": "code",
      "source": [
        "print(f\"Accuracy: {accuracy:.4f}\")\n",
        "print(\"\\nConfusion Matrix:\\n\", conf_matrix)\n",
        "print(\"\\nClassification Report:\\n\", class_report)"
      ],
      "metadata": {
        "colab": {
          "base_uri": "https://localhost:8080/"
        },
        "id": "l9ujI6wrcMG3",
        "outputId": "df72f9e3-d11c-4897-91af-f0e3de635e91"
      },
      "execution_count": null,
      "outputs": [
        {
          "output_type": "stream",
          "name": "stdout",
          "text": [
            "Accuracy: 0.8696\n",
            "\n",
            "Confusion Matrix:\n",
            " [[68 14]\n",
            " [10 92]]\n",
            "\n",
            "Classification Report:\n",
            "               precision    recall  f1-score   support\n",
            "\n",
            "           0       0.87      0.83      0.85        82\n",
            "           1       0.87      0.90      0.88       102\n",
            "\n",
            "    accuracy                           0.87       184\n",
            "   macro avg       0.87      0.87      0.87       184\n",
            "weighted avg       0.87      0.87      0.87       184\n",
            "\n"
          ]
        }
      ]
    },
    {
      "cell_type": "code",
      "source": [
        "# Plot Confusion Matrix\n",
        "plt.figure(figsize=(6, 5))\n",
        "disp = ConfusionMatrixDisplay(confusion_matrix=conf_matrix, display_labels=['No Disease', 'Disease'])\n",
        "disp.plot(cmap=plt.cm.Blues, values_format='d')\n",
        "plt.title(f'Confusion Matrix for {name}')\n",
        "plt.show()\n"
      ],
      "metadata": {
        "colab": {
          "base_uri": "https://localhost:8080/",
          "height": 490
        },
        "id": "__CT3uXLcqIm",
        "outputId": "0332851f-22ce-41cb-879c-7820031f28b5"
      },
      "execution_count": null,
      "outputs": [
        {
          "output_type": "display_data",
          "data": {
            "text/plain": [
              "<Figure size 600x500 with 0 Axes>"
            ]
          },
          "metadata": {}
        },
        {
          "output_type": "display_data",
          "data": {
            "text/plain": [
              "<Figure size 640x480 with 2 Axes>"
            ],
            "image/png": "[encoded data removed]"
          },
          "metadata": {}
        }
      ]
    },
    {
      "cell_type": "code",
      "source": [
        "# Plot ROC Curve\n",
        "plt.figure(figsize=(6, 5))\n",
        "fpr, tpr, _ = roc_curve(y_test, y_proba)\n",
        "roc_auc = auc(fpr, tpr)\n",
        "RocCurveDisplay(fpr=fpr, tpr=tpr, roc_auc=roc_auc, estimator_name=name).plot(ax=plt.gca())\n",
        "plt.plot([0, 1], [0, 1], color='navy', lw=2, linestyle='--')\n",
        "plt.title(f'ROC Curve for {name} (AUC = {roc_auc:.2f})')\n",
        "plt.xlabel('False Positive Rate')\n",
        "plt.ylabel('True Positive Rate')\n",
        "plt.show()\n",
        "print(\"\\n--- All models trained and evaluated. ---\")"
      ],
      "metadata": {
        "colab": {
          "base_uri": "https://localhost:8080/",
          "height": 524
        },
        "id": "E8_yu3iIdf5w",
        "outputId": "fd6a6ded-1e3f-4f6d-dcca-801abe12ff3d"
      },
      "execution_count": null,
      "outputs": [
        {
          "output_type": "display_data",
          "data": {
            "text/plain": [
              "<Figure size 600x500 with 1 Axes>"
            ],
            "image/png": "[encoded data removed]"
          },
          "metadata": {}
        },
        {
          "output_type": "stream",
          "name": "stdout",
          "text": [
            "\n",
            "--- All models trained and evaluated. ---\n"
          ]
        }
      ]
    },
    {
      "cell_type": "code",
      "source": [
        "# @title 5. Summary of Algorithm Performance and Decision Making\n",
        "results = {}\n",
        "\n",
        "print(\"\\n--- Summary of Model Performance ---\")\n",
        "for name, res in results.items():\n",
        " print(f\"\\n{name}:\")\n",
        " print(f\" Accuracy: {res['accuracy']:.4f}\")\n",
        " print(f\" Confusion Matrix:\\n{res['confusion_matrix']}\")\n",
        " print(f\" Classification Report:\\n{res['classification_report']}\")\n",
        " results = {}"
      ],
      "metadata": {
        "colab": {
          "base_uri": "https://localhost:8080/"
        },
        "id": "OG3-AEm30Tnh",
        "outputId": "f779d9ad-84e0-49ee-d840-11897e6ac871"
      },
      "execution_count": null,
      "outputs": [
        {
          "output_type": "stream",
          "name": "stdout",
          "text": [
            "\n",
            "--- Summary of Model Performance ---\n"
          ]
        }
      ]
    },
    {
      "cell_type": "code",
      "source": [
        "for name, model in models.items():\n",
        "    pipeline = Pipeline(steps=[('preprocessor', preprocessor),\n",
        "                               ('classifier', model)])\n",
        "    pipeline.fit(X_train, y_train)\n",
        "    y_pred = pipeline.predict(X_test)\n",
        "\n",
        "    results[name] = {\n",
        "        'accuracy': accuracy_score(y_test, y_pred),\n",
        "        'confusion_matrix': confusion_matrix(y_test, y_pred),\n",
        "        'classification_report': classification_report(y_test, y_pred),\n",
        "        'model_pipeline': pipeline\n",
        "    }"
      ],
      "metadata": {
        "id": "kqx9uA-d4q1G"
      },
      "execution_count": null,
      "outputs": []
    },
    {
      "cell_type": "code",
      "source": [
        "# --- Decision Making ---\n",
        "# Compare accuracies\n",
        "best_model_name = max(results, key=lambda name: results[name]['accuracy'])\n",
        "print(f\"\\nBest performing model based on Accuracy: {best_model_name} with Accuracy = {results[best_model_name]['accuracy']:.4f}\")"
      ],
      "metadata": {
        "colab": {
          "base_uri": "https://localhost:8080/"
        },
        "id": "qV3DUVK03AHD",
        "outputId": "8cb8ff64-92df-4df3-811f-57852cf00048"
      },
      "execution_count": null,
      "outputs": [
        {
          "output_type": "stream",
          "name": "stdout",
          "text": [
            "\n",
            "Best performing model based on Accuracy: Random Forest with Accuracy = 0.8913\n"
          ]
        }
      ]
    },
    {
      "cell_type": "code",
      "source": [
        "# Further analysis: Look at Recall (Sensitivity) for the positive class (Disease)\n",
        "# A high recall means fewer actual positive cases are missed (fewer False Negatives).\n",
        "# This is crucial in medical diagnosis where missing a disease can have severe consequences.\n",
        "print(\"\\n--- Recall for 'Disease' Class (Positive Class, Label 1) ---\")\n",
        "recall_scores = {}\n",
        "for name, res in results.items():\n",
        " report_dict = classification_report(y_test, res['model_pipeline'].predict(X_test),\n",
        "output_dict=True)\n",
        " recall_disease = report_dict['1']['recall']\n",
        " recall_scores[name] = recall_disease\n",
        " print(f\" {name}: Recall = {recall_disease:.4f}\")"
      ],
      "metadata": {
        "colab": {
          "base_uri": "https://localhost:8080/"
        },
        "id": "nSrotUKA6E6N",
        "outputId": "2f676509-0369-41d9-c1c7-1a6978789320"
      },
      "execution_count": null,
      "outputs": [
        {
          "output_type": "stream",
          "name": "stdout",
          "text": [
            "\n",
            "--- Recall for 'Disease' Class (Positive Class, Label 1) ---\n",
            " Logistic Regression: Recall = 0.9216\n",
            " K-Nearest Neighbors: Recall = 0.8824\n",
            " Support Vector Machine: Recall = 0.6863\n",
            " Decision Tree: Recall = 0.8824\n",
            " Random Forest: Recall = 0.9412\n",
            " Gradient Boosting: Recall = 0.9216\n",
            " Neural Network (MLP): Recall = 0.9020\n"
          ]
        }
      ]
    },
    {
      "cell_type": "code",
      "source": [
        "best_recall_model_name = max(recall_scores, key=recall_scores.get)\n",
        "print(f\"Best performing model based on Recall (for Disease): {best_recall_model_name} with Recall = {recall_scores[best_recall_model_name]:.4f}\")"
      ],
      "metadata": {
        "colab": {
          "base_uri": "https://localhost:8080/"
        },
        "id": "-558I9yL74Ax",
        "outputId": "c3aea85c-7ecf-456d-946f-aeb657d39ab1"
      },
      "execution_count": null,
      "outputs": [
        {
          "output_type": "stream",
          "name": "stdout",
          "text": [
            "Best performing model based on Recall (for Disease): Random Forest with Recall = 0.9412\n"
          ]
        }
      ]
    },
    {
      "cell_type": "code",
      "source": [
        "# Consider Precision as well: High precision means fewer healthy people are incorrectly diagnosed\n",
        "# with the disease (fewer False Positives).\n",
        "# This is important to avoid unnecessary stress and invasive procedures.\n",
        "\n",
        "print(\"\\n--- Precision for 'Disease' Class (Positive Class, Label 1) ---\")\n",
        "precision_scores = {}\n",
        "for name, res in results.items():\n",
        "    report_dict = classification_report(y_test, res['model_pipeline'].predict(X_test), output_dict=True)\n",
        "    precision_disease = report_dict['1']['precision']\n",
        "    precision_scores[name] = precision_disease\n",
        "    print(f\" {name}: Precision = {precision_disease:.4f}\")\n",
        "\n",
        "best_precision_model_name = max(precision_scores, key=precision_scores.get)\n"
      ],
      "metadata": {
        "colab": {
          "base_uri": "https://localhost:8080/"
        },
        "id": "DpCeotob-QyB",
        "outputId": "5ef70202-ba7f-48c2-f1d0-522f560ae294"
      },
      "execution_count": null,
      "outputs": [
        {
          "output_type": "stream",
          "name": "stdout",
          "text": [
            "\n",
            "--- Precision for 'Disease' Class (Positive Class, Label 1) ---\n",
            " Logistic Regression: Precision = 0.8468\n",
            " K-Nearest Neighbors: Precision = 0.7965\n",
            " Support Vector Machine: Precision = 0.8434\n",
            " Decision Tree: Precision = 0.8491\n",
            " Random Forest: Precision = 0.8727\n",
            " Gradient Boosting: Precision = 0.8704\n",
            " Neural Network (MLP): Precision = 0.8679\n"
          ]
        }
      ]
    },
    {
      "cell_type": "code",
      "source": [
        "print(f\"Best performing model based on Precision (for Disease): {best_precision_model_name} with Precision = {precision_scores[best_precision_model_name]:.4f}\")"
      ],
      "metadata": {
        "colab": {
          "base_uri": "https://localhost:8080/"
        },
        "id": "1KeS77FzBDiV",
        "outputId": "7d32b676-ec6e-4c38-c89d-e23d402f08c7"
      },
      "execution_count": null,
      "outputs": [
        {
          "output_type": "stream",
          "name": "stdout",
          "text": [
            "Best performing model based on Precision (for Disease): Random Forest with Precision = 0.8727\n"
          ]
        }
      ]
    },
    {
      "cell_type": "code",
      "source": [
        "print(\"\\n--- Overall Decision Making ---\")\n",
        "print(\"Choosing the 'best' model depends on the specific priorities:\")\n",
        "print(\"- If minimizing missed disease cases (False Negatives) is paramount, prioritize **Recall**.\")\n",
        "print(\"- If minimizing false alarms (False Positives) is paramount, prioritize **Precision**.\")\n",
        "print(\"- **F1-score** provides a balance between Precision and Recall.\")\n",
        "print(\"- **ROC AUC** gives an overall measure of the model's ability to distinguish between classes.\")"
      ],
      "metadata": {
        "colab": {
          "base_uri": "https://localhost:8080/"
        },
        "id": "S9rMmPB0ChWr",
        "outputId": "bf3fc2e1-2b0d-440a-a10e-5c6a2eda045e"
      },
      "execution_count": null,
      "outputs": [
        {
          "output_type": "stream",
          "name": "stdout",
          "text": [
            "\n",
            "--- Overall Decision Making ---\n",
            "Choosing the 'best' model depends on the specific priorities:\n",
            "- If minimizing missed disease cases (False Negatives) is paramount, prioritize **Recall**.\n",
            "- If minimizing false alarms (False Positives) is paramount, prioritize **Precision**.\n",
            "- **F1-score** provides a balance between Precision and Recall.\n",
            "- **ROC AUC** gives an overall measure of the model's ability to distinguish between classes.\n"
          ]
        }
      ]
    },
    {
      "cell_type": "code",
      "source": [
        "print(\"\\nIn a medical context like heart disease prediction, a high Recall (sensitivity) is often critical to ensure that as many actual cases of heart disease are identified as possible, even if it means a slightly lower precision (more false alarms). However, the balance always depends on the downstream impact of false positives vs. false negatives. Random Forest or Gradient Boosting often provide a good balance and strong predictive power.\")"
      ],
      "metadata": {
        "colab": {
          "base_uri": "https://localhost:8080/"
        },
        "id": "skyCOVNTDAJk",
        "outputId": "45bfe3e7-f687-4fea-dc80-90931a03ed5d"
      },
      "execution_count": null,
      "outputs": [
        {
          "output_type": "stream",
          "name": "stdout",
          "text": [
            "\n",
            "In a medical context like heart disease prediction, a high Recall (sensitivity) is often critical to ensure that as many actual cases of heart disease are identified as possible, even if it means a slightly lower precision (more false alarms). However, the balance always depends on the downstream impact of false positives vs. false negatives. Random Forest or Gradient Boosting often provide a good balance and strong predictive power.\n"
          ]
        }
      ]
    },
    {
      "cell_type": "code",
      "source": [
        "# @title 6. Making Predictions on New Data\n",
        "# Let's say we pick the Random Forest model for demonstration\n",
        "# You can change this to any model from the 'results' dictionary\n",
        "chosen_model_name = best_recall_model_name # Or best_model_name, etc.\n",
        "chosen_pipeline = results[chosen_model_name]['model_pipeline']\n",
        "print(f\"\\n--- Making Predictions using the Chosen Model: {chosen_model_name} ---\")"
      ],
      "metadata": {
        "colab": {
          "base_uri": "https://localhost:8080/"
        },
        "id": "4bGlRf9SHoEB",
        "outputId": "515fe89e-ea97-4973-dbcb-167cb05bed0c"
      },
      "execution_count": null,
      "outputs": [
        {
          "output_type": "stream",
          "name": "stdout",
          "text": [
            "\n",
            "--- Making Predictions using the Chosen Model: Random Forest ---\n"
          ]
        }
      ]
    },
    {
      "cell_type": "code",
      "source": [
        "# Features: age, sex, cp, trestbps, chol, fbs, restecg, thalach, exang, oldpeak, slope, ca,thal\n",
        "import pandas as pd\n",
        "\n",
        "new_patient_data = pd.DataFrame([{\n",
        "    'age': 55,\n",
        "    'sex': 1,        # 1 = male, 0 = female\n",
        "    'cp': 3,         # Chest Pain Type: 0=typical angina, 1=atypical angina, 2=non-anginal pain, 3=asymptomatic\n",
        "    'trestbps': 130, # Resting blood pressure\n",
        "    'chol': 240,     # Serum cholesterol in mg/dl\n",
        "    'fbs': 0,        # Fasting blood sugar > 120 mg/dl (1=true, 0=false)\n",
        "    'restecg': 1,    # Resting ECG results: 0=normal, 1=ST-T abnormality, 2=LV hypertrophy\n",
        "    'thalach': 150,  # Max heart rate achieved\n",
        "    'exang': 0,      # Exercise induced angina (1=yes, 0=no)\n",
        "    'oldpeak': 1.0,  # ST depression induced by exercise\n",
        "    'slope': 2,      # Slope of peak exercise ST: 0=upsloping, 1=flat, 2=downsloping\n",
        "    'ca': 0,         # Number of major vessels (0-3) colored by fluoroscopy\n",
        "    'thal': 2        # Thalassemia: 0=normal, 1=fixed defect, 2=reversible defect\n",
        "}])\n",
        "\n",
        "print(new_patient_data)"
      ],
      "metadata": {
        "colab": {
          "base_uri": "https://localhost:8080/"
        },
        "id": "2raf2XaiMs8z",
        "outputId": "97bdd727-568b-4f23-a9a2-4c2b84f0e2f2"
      },
      "execution_count": null,
      "outputs": [
        {
          "output_type": "stream",
          "name": "stdout",
          "text": [
            "   age  sex  cp  trestbps  chol  fbs  restecg  thalach  exang  oldpeak  slope  \\\n",
            "0   55    1   3       130   240    0        1      150      0      1.0      2   \n",
            "\n",
            "   ca  thal  \n",
            "0   0     2  \n"
          ]
        }
      ]
    },
    {
      "cell_type": "code",
      "source": [
        "# Predict the probability of heart disease\n",
        "processed_patient = pd.get_dummies(new_patient_data)\n",
        "\n",
        "# ensure same columns as training\n",
        "processed_patient = processed_patient.reindex(columns=X_train.columns, fill_value=0)\n",
        "\n",
        "\n",
        "prediction_proba = chosen_pipeline.predict_proba(processed_patient)[0]\n",
        "prediction_class = chosen_pipeline.predict(processed_patient)[0]\n",
        "\n",
        "print(f\"\\nPrediction for new patient using {chosen_model_name}:\")\n",
        "print(f\" Probability of No Heart Disease: {prediction_proba[0]:.4f}\")\n",
        "print(f\" Probability of Heart Disease: {prediction_proba[1]:.4f}\")\n",
        "if prediction_class == 1:\n",
        " print(f\" **Predicted Class: HEART DISEASE**\")\n",
        "else:\n",
        " print(f\" **Predicted Class: NO HEART DISEASE**\")"
      ],
      "metadata": {
        "colab": {
          "base_uri": "https://localhost:8080/"
        },
        "id": "5VQhm9t0Qoaq",
        "outputId": "7322812b-ca82-4e65-b648-3c4474099092"
      },
      "execution_count": null,
      "outputs": [
        {
          "output_type": "stream",
          "name": "stdout",
          "text": [
            "\n",
            "Prediction for new patient using Random Forest:\n",
            " Probability of No Heart Disease: 0.7600\n",
            " Probability of Heart Disease: 0.2400\n",
            " **Predicted Class: NO HEART DISEASE**\n"
          ]
        }
      ]
    },
    {
      "cell_type": "code",
      "source": [
        "# Decision Making based on Prediction\n",
        "if prediction_class == 1 and prediction_proba[1] > 0.6: # Example threshold\n",
        " print(\"\\nDecision: This patient has a high predicted probability of heart disease. Further medical evaluation is strongly recommended.\")\n",
        "elif prediction_class == 1:\n",
        " print(\"\\nDecision: This patient is predicted to have heart disease. Consider further diagnostics or monitoring.\")\n",
        "else:\n",
        " print(\"\\nDecision: This patient is predicted not to have heart disease based on the provided data. Continue routine check-ups.\")"
      ],
      "metadata": {
        "colab": {
          "base_uri": "https://localhost:8080/"
        },
        "id": "-X23doOMWVdl",
        "outputId": "b321f05c-908a-4258-cc93-d265b7bdf499"
      },
      "execution_count": null,
      "outputs": [
        {
          "output_type": "stream",
          "name": "stdout",
          "text": [
            "\n",
            "Decision: This patient is predicted not to have heart disease based on the provided data. Continue routine check-ups.\n"
          ]
        }
      ]
    }
  ]
}